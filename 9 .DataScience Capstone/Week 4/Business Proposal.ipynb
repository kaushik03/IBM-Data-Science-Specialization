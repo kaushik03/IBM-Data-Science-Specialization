{
 "cells": [
  {
   "cell_type": "markdown",
   "id": "decimal-solution",
   "metadata": {},
   "source": [
    "# Business Proposal\n",
    "\n",
    "\n",
    "### Introduction:\n",
    "The purpose of this Project is to help people in exploring better facilities around their neighborhood. It will help people making smart and efficient decision on selecting great neighborhood out of numbers of other neighborhoods in Canada\n",
    "\n",
    "Lots of people are migrating to Canada. This project is for those people who are looking for better neighborhoods. For ease of accessing to Cafe, School, Super market, medical shops, grocery shops, mall, theatre, hospital, like minded people, etc.\n",
    "\n",
    "It will help people to get awareness of the area and neighborhood before moving to a new city, state, country or place for their work or to start a new fresh life.\n",
    "\n",
    "### Problem Which Tried to Solve:\n",
    "The major purpose of this project, is to suggest a better neighborhood in a new city for Connectivity to the airport, bus stand, city center, markets and other daily needs things nearby.\n",
    "\n",
    "\n",
    "\n",
    "Foursquare API:\n",
    "This project would use Four-square API as its prime data gathering source as it has a database of millions of places, especially their places API which provides the ability to perform location search, location sharing and details about a business.\n",
    "\n",
    "\n",
    "\n",
    "Clustering Approach:\n",
    "To compare the similarities of two cities, we decided to explore neighborhoods, segment them, and group them into clusters to find similar neighborhoods in a big city like New York and Toronto. To be able to do that, we need to cluster data which is a form of unsupervised machine learning: k-means clustering algorithm\n",
    "\n",
    "### Libraries Which are Used to Develope the Project:\n",
    "- Pandas: For creating and manipulating dataframes.\n",
    "- Matplotlib: Python Plotting Module.\n",
    "- Folium: Python visualization library would be used to visualize the neighborhoods cluster distribution of using interactive leaflet map.\n",
    "- Scikit Learn: For importing k-means clustering.\n",
    "- JSON: Library to handle JSON files.\n",
    "- XML: To separate data from presentation and XML stores data in plain text format.\n",
    "- Geocoder: To retrieve Location Data.\n",
    "- Beautiful Soup and Requests: To scrap and library to handle http requests.\n",
    "\n"
   ]
  },
  {
   "cell_type": "code",
   "execution_count": null,
   "id": "annual-kazakhstan",
   "metadata": {},
   "outputs": [],
   "source": []
  }
 ],
 "metadata": {
  "kernelspec": {
   "display_name": "Python 3",
   "language": "python",
   "name": "python3"
  },
  "language_info": {
   "codemirror_mode": {
    "name": "ipython",
    "version": 3
   },
   "file_extension": ".py",
   "mimetype": "text/x-python",
   "name": "python",
   "nbconvert_exporter": "python",
   "pygments_lexer": "ipython3",
   "version": "3.8.8"
  }
 },
 "nbformat": 4,
 "nbformat_minor": 5
}
